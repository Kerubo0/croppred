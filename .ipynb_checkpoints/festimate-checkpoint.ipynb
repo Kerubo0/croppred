{
 "cells": [
  {
   "cell_type": "code",
   "execution_count": 2,
   "id": "4b7852ce",
   "metadata": {},
   "outputs": [],
   "source": [
    "import numpy as np\n",
    "import pandas as pd\n",
    "import matplotlib.pyplot as plt\n",
    "from sklearn.model_selection import train_test_split"
   ]
  },
  {
   "cell_type": "code",
   "execution_count": 3,
   "id": "52ed7ce0",
   "metadata": {},
   "outputs": [
    {
     "name": "stdout",
     "output_type": "stream",
     "text": [
      "    Ca   Mg    K    S    N  Lime    C    P  Moisture  class\n",
      "0  0.7  0.6  0.8  0.8  0.7   0.8  0.3  0.1       0.9      4\n"
     ]
    }
   ],
   "source": [
    "#reading the csv file\n",
    "fertdata= pd.read_csv (\"fertestimate.csv\")\n",
    "print(fertdata.head(1))\n"
   ]
  },
  {
   "cell_type": "code",
   "execution_count": 4,
   "id": "375fe44b",
   "metadata": {
    "scrolled": true
   },
   "outputs": [
    {
     "data": {
      "text/html": [
       "<div>\n",
       "<style scoped>\n",
       "    .dataframe tbody tr th:only-of-type {\n",
       "        vertical-align: middle;\n",
       "    }\n",
       "\n",
       "    .dataframe tbody tr th {\n",
       "        vertical-align: top;\n",
       "    }\n",
       "\n",
       "    .dataframe thead th {\n",
       "        text-align: right;\n",
       "    }\n",
       "</style>\n",
       "<table border=\"1\" class=\"dataframe\">\n",
       "  <thead>\n",
       "    <tr style=\"text-align: right;\">\n",
       "      <th></th>\n",
       "      <th>Ca</th>\n",
       "      <th>Mg</th>\n",
       "      <th>K</th>\n",
       "      <th>S</th>\n",
       "      <th>N</th>\n",
       "      <th>Lime</th>\n",
       "      <th>C</th>\n",
       "      <th>P</th>\n",
       "      <th>Moisture</th>\n",
       "      <th>class</th>\n",
       "    </tr>\n",
       "  </thead>\n",
       "  <tbody>\n",
       "    <tr>\n",
       "      <th>count</th>\n",
       "      <td>1599.000000</td>\n",
       "      <td>1599.000000</td>\n",
       "      <td>1599.000000</td>\n",
       "      <td>1599.000000</td>\n",
       "      <td>1599.000000</td>\n",
       "      <td>1599.000000</td>\n",
       "      <td>1599.000000</td>\n",
       "      <td>1599.000000</td>\n",
       "      <td>1599.000000</td>\n",
       "      <td>1599.000000</td>\n",
       "    </tr>\n",
       "    <tr>\n",
       "      <th>mean</th>\n",
       "      <td>0.552033</td>\n",
       "      <td>0.552158</td>\n",
       "      <td>0.554284</td>\n",
       "      <td>0.551032</td>\n",
       "      <td>0.551782</td>\n",
       "      <td>0.548030</td>\n",
       "      <td>0.549656</td>\n",
       "      <td>0.550594</td>\n",
       "      <td>0.702939</td>\n",
       "      <td>2.505316</td>\n",
       "    </tr>\n",
       "    <tr>\n",
       "      <th>std</th>\n",
       "      <td>0.207752</td>\n",
       "      <td>0.208562</td>\n",
       "      <td>0.209547</td>\n",
       "      <td>0.204817</td>\n",
       "      <td>0.209015</td>\n",
       "      <td>0.205967</td>\n",
       "      <td>0.205063</td>\n",
       "      <td>0.203223</td>\n",
       "      <td>0.141236</td>\n",
       "      <td>1.123674</td>\n",
       "    </tr>\n",
       "    <tr>\n",
       "      <th>min</th>\n",
       "      <td>0.100000</td>\n",
       "      <td>0.100000</td>\n",
       "      <td>0.100000</td>\n",
       "      <td>0.100000</td>\n",
       "      <td>0.100000</td>\n",
       "      <td>0.100000</td>\n",
       "      <td>0.100000</td>\n",
       "      <td>0.100000</td>\n",
       "      <td>0.500000</td>\n",
       "      <td>1.000000</td>\n",
       "    </tr>\n",
       "    <tr>\n",
       "      <th>25%</th>\n",
       "      <td>0.500000</td>\n",
       "      <td>0.500000</td>\n",
       "      <td>0.450000</td>\n",
       "      <td>0.450000</td>\n",
       "      <td>0.450000</td>\n",
       "      <td>0.450000</td>\n",
       "      <td>0.450000</td>\n",
       "      <td>0.450000</td>\n",
       "      <td>0.600000</td>\n",
       "      <td>1.000000</td>\n",
       "    </tr>\n",
       "    <tr>\n",
       "      <th>50%</th>\n",
       "      <td>0.600000</td>\n",
       "      <td>0.600000</td>\n",
       "      <td>0.600000</td>\n",
       "      <td>0.600000</td>\n",
       "      <td>0.600000</td>\n",
       "      <td>0.600000</td>\n",
       "      <td>0.600000</td>\n",
       "      <td>0.600000</td>\n",
       "      <td>0.700000</td>\n",
       "      <td>3.000000</td>\n",
       "    </tr>\n",
       "    <tr>\n",
       "      <th>75%</th>\n",
       "      <td>0.700000</td>\n",
       "      <td>0.700000</td>\n",
       "      <td>0.700000</td>\n",
       "      <td>0.700000</td>\n",
       "      <td>0.700000</td>\n",
       "      <td>0.700000</td>\n",
       "      <td>0.700000</td>\n",
       "      <td>0.700000</td>\n",
       "      <td>0.800000</td>\n",
       "      <td>4.000000</td>\n",
       "    </tr>\n",
       "    <tr>\n",
       "      <th>max</th>\n",
       "      <td>0.800000</td>\n",
       "      <td>0.800000</td>\n",
       "      <td>0.800000</td>\n",
       "      <td>0.800000</td>\n",
       "      <td>0.800000</td>\n",
       "      <td>0.800000</td>\n",
       "      <td>0.800000</td>\n",
       "      <td>0.800000</td>\n",
       "      <td>0.900000</td>\n",
       "      <td>4.000000</td>\n",
       "    </tr>\n",
       "  </tbody>\n",
       "</table>\n",
       "</div>"
      ],
      "text/plain": [
       "                Ca           Mg            K            S            N  \\\n",
       "count  1599.000000  1599.000000  1599.000000  1599.000000  1599.000000   \n",
       "mean      0.552033     0.552158     0.554284     0.551032     0.551782   \n",
       "std       0.207752     0.208562     0.209547     0.204817     0.209015   \n",
       "min       0.100000     0.100000     0.100000     0.100000     0.100000   \n",
       "25%       0.500000     0.500000     0.450000     0.450000     0.450000   \n",
       "50%       0.600000     0.600000     0.600000     0.600000     0.600000   \n",
       "75%       0.700000     0.700000     0.700000     0.700000     0.700000   \n",
       "max       0.800000     0.800000     0.800000     0.800000     0.800000   \n",
       "\n",
       "              Lime            C            P     Moisture        class  \n",
       "count  1599.000000  1599.000000  1599.000000  1599.000000  1599.000000  \n",
       "mean      0.548030     0.549656     0.550594     0.702939     2.505316  \n",
       "std       0.205967     0.205063     0.203223     0.141236     1.123674  \n",
       "min       0.100000     0.100000     0.100000     0.500000     1.000000  \n",
       "25%       0.450000     0.450000     0.450000     0.600000     1.000000  \n",
       "50%       0.600000     0.600000     0.600000     0.700000     3.000000  \n",
       "75%       0.700000     0.700000     0.700000     0.800000     4.000000  \n",
       "max       0.800000     0.800000     0.800000     0.900000     4.000000  "
      ]
     },
     "execution_count": 4,
     "metadata": {},
     "output_type": "execute_result"
    }
   ],
   "source": [
    "fertdata.describe()\n"
   ]
  },
  {
   "cell_type": "code",
   "execution_count": 9,
   "id": "e1f52d8f",
   "metadata": {},
   "outputs": [
    {
     "data": {
      "text/plain": [
       "(array([100.,  99., 112.,   0.,  88., 282.,   0., 303., 307., 308.]),\n",
       " array([0.1 , 0.17, 0.24, 0.31, 0.38, 0.45, 0.52, 0.59, 0.66, 0.73, 0.8 ]),\n",
       " <BarContainer object of 10 artists>)"
      ]
     },
     "execution_count": 9,
     "metadata": {},
     "output_type": "execute_result"
    },
    {
     "data": {
      "image/png": "[encoded data removed]",
      "text/plain": [
       "<Figure size 432x288 with 1 Axes>"
      ]
     },
     "metadata": {
      "needs_background": "light"
     },
     "output_type": "display_data"
    }
   ],
   "source": [
    "#histogram plots\n",
    "#1\n",
    "counts, bins = np.histogram(fertdata.iloc[:,0])\n",
    "plt.hist(bins[:-1], bins, weights=counts)\n"
   ]
  },
  {
   "cell_type": "code",
   "execution_count": 6,
   "id": "9b585326",
   "metadata": {},
   "outputs": [
    {
     "data": {
      "text/plain": [
       "(array([102., 102.,  96.,   0.,  99., 295.,   0., 294., 288., 323.]),\n",
       " array([0.1 , 0.17, 0.24, 0.31, 0.38, 0.45, 0.52, 0.59, 0.66, 0.73, 0.8 ]),\n",
       " <BarContainer object of 10 artists>)"
      ]
     },
     "execution_count": 6,
     "metadata": {},
     "output_type": "execute_result"
    },
    {
     "data": {
      "image/png": "[encoded data removed]",
      "text/plain": [
       "<Figure size 432x288 with 1 Axes>"
      ]
     },
     "metadata": {
      "needs_background": "light"
     },
     "output_type": "display_data"
    }
   ],
   "source": [
    "#2\n",
    "counts, bins = np.histogram(fertdata.iloc[:,1])\n",
    "plt.hist(bins[:-1], bins, weights=counts)"
   ]
  },
  {
   "cell_type": "code",
   "execution_count": 8,
   "id": "421dae21",
   "metadata": {},
   "outputs": [
    {
     "data": {
      "text/plain": [
       "(array([103.,  97., 106.,   0.,  94., 282.,   0., 283., 308., 326.]),\n",
       " array([0.1 , 0.17, 0.24, 0.31, 0.38, 0.45, 0.52, 0.59, 0.66, 0.73, 0.8 ]),\n",
       " <BarContainer object of 10 artists>)"
      ]
     },
     "execution_count": 8,
     "metadata": {},
     "output_type": "execute_result"
    },
    {
     "data": {
      "image/png": "[encoded data removed]",
      "text/plain": [
       "<Figure size 432x288 with 1 Axes>"
      ]
     },
     "metadata": {
      "needs_background": "light"
     },
     "output_type": "display_data"
    }
   ],
   "source": [
    "#3\n",
    "counts, bins = np.histogram(fertdata.iloc[:,2])\n",
    "plt.hist(bins[:-1], bins, weights=counts)"
   ]
  },
  {
   "cell_type": "code",
   "execution_count": 13,
   "id": "233fc1a2",
   "metadata": {},
   "outputs": [
    {
     "name": "stderr",
     "output_type": "stream",
     "text": [
      "C:\\Users\\ivy\\AppData\\Local\\Temp\\ipykernel_728\\1164402203.py:3: FutureWarning: In a future version of pandas all arguments of DataFrame.drop except for the argument 'labels' will be keyword-only.\n",
      "  fert_data.drop('class',1,inplace = True)\n"
     ]
    }
   ],
   "source": [
    "fert_data = pd.read_csv('fertestimate.csv')\n",
    "y = fert_data['class']\n",
    "fert_data.drop('class',1,inplace = True)"
   ]
  },
  {
   "cell_type": "code",
   "execution_count": 14,
   "id": "cfcfdcf5",
   "metadata": {},
   "outputs": [],
   "source": [
    "from sklearn.model_selection import train_test_split\n",
    "X_train, X_test, y_train, y_test = train_test_split(fert_data.iloc[:,:], y, test_size = 0.250)"
   ]
  },
  {
   "cell_type": "code",
   "execution_count": 16,
   "id": "e40eade7",
   "metadata": {},
   "outputs": [
    {
     "name": "stdout",
     "output_type": "stream",
     "text": [
      "ACCURACY OF THE MODEL:  0.9725\n",
      "ACCURACY OF THE MODEL:  0.9532944120100083\n"
     ]
    }
   ],
   "source": [
    "from sklearn.svm import SVC\n",
    "# creating a RF classifier\n",
    "clf2 = SVC()\n",
    "\n",
    "# Training the model on the training dataset\n",
    "# fit function is used to train the model using the training sets as parameters\n",
    "clf2.fit(X_train, y_train)\n",
    "\n",
    "# performing predictions on the test dataset\n",
    "y_pred = clf2.predict(X_test)\n",
    "\n",
    "# metrics are used to find accuracy or error\n",
    "from sklearn import metrics\n",
    "\n",
    "# using metrics module for accuracy calculation\n",
    "print(\"ACCURACY OF THE MODEL: \", metrics.accuracy_score(y_test, y_pred))\n",
    "print(\"ACCURACY OF THE MODEL: \", metrics.accuracy_score(y_train, clf2.predict(X_train)))\n"
   ]
  },
  {
   "cell_type": "code",
   "execution_count": 17,
   "id": "86b781ad",
   "metadata": {},
   "outputs": [],
   "source": [
    "import pickle\n",
    "pickle.dump(clf2,open('random_forest_model.pkl','wb'))"
   ]
  },
  {
   "cell_type": "code",
   "execution_count": 18,
   "id": "8e1fffcd",
   "metadata": {},
   "outputs": [
    {
     "name": "stderr",
     "output_type": "stream",
     "text": [
      "C:\\Users\\ivy\\anaconda3\\envs\\predict\\lib\\site-packages\\sklearn\\base.py:450: UserWarning: X does not have valid feature names, but SVC was fitted with feature names\n",
      "  warnings.warn(\n"
     ]
    },
    {
     "data": {
      "text/plain": [
       "1"
      ]
     },
     "execution_count": 18,
     "metadata": {},
     "output_type": "execute_result"
    }
   ],
   "source": [
    "clf2.predict([np.array([0.05,0.01,0.01,0.01,0.02,0.01,0.03,0.01,0.01])])[0]"
   ]
  }
 ],
 "metadata": {
  "kernelspec": {
   "display_name": "Python 3 (ipykernel)",
   "language": "python",
   "name": "python3"
  },
  "language_info": {
   "codemirror_mode": {
    "name": "ipython",
    "version": 3
   },
   "file_extension": ".py",
   "mimetype": "text/x-python",
   "name": "python",
   "nbconvert_exporter": "python",
   "pygments_lexer": "ipython3",
   "version": "3.9.7"
  }
 },
 "nbformat": 4,
 "nbformat_minor": 5
}
